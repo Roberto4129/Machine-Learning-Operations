{
 "cells": [
  {
   "cell_type": "code",
   "execution_count": 38,
   "metadata": {},
   "outputs": [],
   "source": [
    "import pandas as pd\n",
    "from sklearn.feature_extraction.text import TfidfVectorizer\n",
    "from sklearn.metrics.pairwise import linear_kernel\n",
    "from sklearn.feature_extraction.text import CountVectorizer\n",
    "import unicodedata\n",
    "from ast import literal_eval"
   ]
  },
  {
   "cell_type": "code",
   "execution_count": 55,
   "metadata": {},
   "outputs": [],
   "source": [
    "df_1 = pd.read_csv(\"Dataset_Proyecto1\\DATA_EDA.csv\",  index_col=0)"
   ]
  },
  {
   "cell_type": "code",
   "execution_count": 56,
   "metadata": {},
   "outputs": [],
   "source": [
    "df1 = df_1[[\"title\", \"genres\", \"overview\",\"popularity\" ]]\n"
   ]
  },
  {
   "attachments": {},
   "cell_type": "markdown",
   "metadata": {},
   "source": [
    "Configuración de funciones para datos de entrenamiento de MLConseguir una sopa de letras"
   ]
  },
  {
   "cell_type": "code",
   "execution_count": 57,
   "metadata": {},
   "outputs": [
    {
     "name": "stderr",
     "output_type": "stream",
     "text": [
      "C:\\Users\\ROG BY NG\\AppData\\Local\\Temp\\ipykernel_1988\\467887005.py:1: SettingWithCopyWarning: \n",
      "A value is trying to be set on a copy of a slice from a DataFrame.\n",
      "Try using .loc[row_indexer,col_indexer] = value instead\n",
      "\n",
      "See the caveats in the documentation: https://pandas.pydata.org/pandas-docs/stable/user_guide/indexing.html#returning-a-view-versus-a-copy\n",
      "  df1.title = df1.title.str.lower()# convierte todos los títulos a minúsculas\n",
      "C:\\Users\\ROG BY NG\\AppData\\Local\\Temp\\ipykernel_1988\\467887005.py:2: SettingWithCopyWarning: \n",
      "A value is trying to be set on a copy of a slice from a DataFrame.\n",
      "Try using .loc[row_indexer,col_indexer] = value instead\n",
      "\n",
      "See the caveats in the documentation: https://pandas.pydata.org/pandas-docs/stable/user_guide/indexing.html#returning-a-view-versus-a-copy\n",
      "  df1.genres = df1.genres.str.replace(\" \",\"\")# elimina los espacios en blanco\n",
      "C:\\Users\\ROG BY NG\\AppData\\Local\\Temp\\ipykernel_1988\\467887005.py:7: SettingWithCopyWarning: \n",
      "A value is trying to be set on a copy of a slice from a DataFrame.\n",
      "Try using .loc[row_indexer,col_indexer] = value instead\n",
      "\n",
      "See the caveats in the documentation: https://pandas.pydata.org/pandas-docs/stable/user_guide/indexing.html#returning-a-view-versus-a-copy\n",
      "  df1.genres = df1.genres.apply(safe_literal_eval)  # Establecer el tipo de datos correcto en la columna genres\n",
      "C:\\Users\\ROG BY NG\\AppData\\Local\\Temp\\ipykernel_1988\\467887005.py:8: SettingWithCopyWarning: \n",
      "A value is trying to be set on a copy of a slice from a DataFrame.\n",
      "Try using .loc[row_indexer,col_indexer] = value instead\n",
      "\n",
      "See the caveats in the documentation: https://pandas.pydata.org/pandas-docs/stable/user_guide/indexing.html#returning-a-view-versus-a-copy\n",
      "  df1[\"features\"] = df1.genres  # crea una nueva columna\n"
     ]
    }
   ],
   "source": [
    "df1.title = df1.title.str.lower()# convierte todos los títulos a minúsculas\n",
    "df1.genres = df1.genres.str.replace(\" \",\"\")# elimina los espacios en blanco\n",
    "def safe_literal_eval(value):#función verifica si el valor es una cadena no nula \n",
    "    if isinstance(value, str) and not pd.isna(value):#garantiza que no se produzca un error al evaluar los valores nan \n",
    "        return literal_eval(value)\n",
    "    return []\n",
    "df1.genres = df1.genres.apply(safe_literal_eval)  # Establecer el tipo de datos correcto en la columna genres\n",
    "df1[\"features\"] = df1.genres  # crea una nueva columna\n"
   ]
  },
  {
   "attachments": {},
   "cell_type": "markdown",
   "metadata": {},
   "source": [
    "Conseguir una sopa de letras"
   ]
  },
  {
   "cell_type": "code",
   "execution_count": 59,
   "metadata": {},
   "outputs": [
    {
     "name": "stderr",
     "output_type": "stream",
     "text": [
      "C:\\Users\\ROG BY NG\\AppData\\Local\\Temp\\ipykernel_1988\\1336136642.py:1: SettingWithCopyWarning: \n",
      "A value is trying to be set on a copy of a slice from a DataFrame.\n",
      "Try using .loc[row_indexer,col_indexer] = value instead\n",
      "\n",
      "See the caveats in the documentation: https://pandas.pydata.org/pandas-docs/stable/user_guide/indexing.html#returning-a-view-versus-a-copy\n",
      "  df1['genres'] = df1['genres'].apply(lambda x: ' '.join(x))  # Unir elementos de \"genres\"\n",
      "C:\\Users\\ROG BY NG\\AppData\\Local\\Temp\\ipykernel_1988\\1336136642.py:2: SettingWithCopyWarning: \n",
      "A value is trying to be set on a copy of a slice from a DataFrame.\n",
      "Try using .loc[row_indexer,col_indexer] = value instead\n",
      "\n",
      "See the caveats in the documentation: https://pandas.pydata.org/pandas-docs/stable/user_guide/indexing.html#returning-a-view-versus-a-copy\n",
      "  df1['features'] = df1['genres'] + ' ' + df1['overview']  # Unir elementos de \"genres\" y \"overview\" en la columna \"features\"(caracteristicas)\n"
     ]
    }
   ],
   "source": [
    "df1['genres'] = df1['genres'].apply(lambda x: ' '.join(x))  # Unir elementos de \"genres\"\n",
    "df1['features'] = df1['genres'] + ' ' + df1['overview']  # Unir elementos de \"genres\" y \"overview\" en la columna \"features\"(caracteristicas)"
   ]
  },
  {
   "cell_type": "code",
   "execution_count": 60,
   "metadata": {},
   "outputs": [],
   "source": [
    "df1 = df1.sort_values(\"popularity\", ascending=False)  # Ordenar por popularidad en orden descendente\n",
    "df1.drop([\"genres\", \"overview\", \"popularity\"], inplace=True, axis=1)  # Eliminar columnas que no se utilizarán en el modelo de ML\n",
    "df1[\"features\"] = df1[\"features\"].str.lower()  # Normalizar los valores en la columna \"features\" a minúsculas\n",
    "df1.reset_index(drop=True, inplace=True)  # Restablecer el índice del DataFrame"
   ]
  },
  {
   "cell_type": "code",
   "execution_count": 61,
   "metadata": {},
   "outputs": [
    {
     "data": {
      "text/html": [
       "<div>\n",
       "<style scoped>\n",
       "    .dataframe tbody tr th:only-of-type {\n",
       "        vertical-align: middle;\n",
       "    }\n",
       "\n",
       "    .dataframe tbody tr th {\n",
       "        vertical-align: top;\n",
       "    }\n",
       "\n",
       "    .dataframe thead th {\n",
       "        text-align: right;\n",
       "    }\n",
       "</style>\n",
       "<table border=\"1\" class=\"dataframe\">\n",
       "  <thead>\n",
       "    <tr style=\"text-align: right;\">\n",
       "      <th></th>\n",
       "      <th>title</th>\n",
       "      <th>features</th>\n",
       "    </tr>\n",
       "  </thead>\n",
       "  <tbody>\n",
       "    <tr>\n",
       "      <th>0</th>\n",
       "      <td>minions</td>\n",
       "      <td>f a m i l y   a n i m a t i o n   a d v e n t ...</td>\n",
       "    </tr>\n",
       "    <tr>\n",
       "      <th>1</th>\n",
       "      <td>wonder woman</td>\n",
       "      <td>a c t i o n   a d v e n t u r e   f a n t a s ...</td>\n",
       "    </tr>\n",
       "    <tr>\n",
       "      <th>2</th>\n",
       "      <td>beauty and the beast</td>\n",
       "      <td>f a m i l y   f a n t a s y   r o m a n c e a ...</td>\n",
       "    </tr>\n",
       "    <tr>\n",
       "      <th>3</th>\n",
       "      <td>baby driver</td>\n",
       "      <td>a c t i o n   c r i m e after being coerced in...</td>\n",
       "    </tr>\n",
       "    <tr>\n",
       "      <th>4</th>\n",
       "      <td>big hero 6</td>\n",
       "      <td>a d v e n t u r e   f a m i l y   a n i m a t ...</td>\n",
       "    </tr>\n",
       "    <tr>\n",
       "      <th>5</th>\n",
       "      <td>deadpool</td>\n",
       "      <td>a c t i o n   a d v e n t u r e   c o m e d y ...</td>\n",
       "    </tr>\n",
       "    <tr>\n",
       "      <th>6</th>\n",
       "      <td>guardians of the galaxy vol. 2</td>\n",
       "      <td>a c t i o n   a d v e n t u r e   c o m e d y ...</td>\n",
       "    </tr>\n",
       "    <tr>\n",
       "      <th>7</th>\n",
       "      <td>avatar</td>\n",
       "      <td>a c t i o n   a d v e n t u r e   f a n t a s ...</td>\n",
       "    </tr>\n",
       "    <tr>\n",
       "      <th>8</th>\n",
       "      <td>john wick</td>\n",
       "      <td>a c t i o n   t h r i l l e r ex-lunatic john ...</td>\n",
       "    </tr>\n",
       "    <tr>\n",
       "      <th>9</th>\n",
       "      <td>gone girl</td>\n",
       "      <td>m y s t e r y   t h r i l l e r   d r a m a wi...</td>\n",
       "    </tr>\n",
       "  </tbody>\n",
       "</table>\n",
       "</div>"
      ],
      "text/plain": [
       "                            title  \\\n",
       "0                         minions   \n",
       "1                    wonder woman   \n",
       "2            beauty and the beast   \n",
       "3                     baby driver   \n",
       "4                      big hero 6   \n",
       "5                        deadpool   \n",
       "6  guardians of the galaxy vol. 2   \n",
       "7                          avatar   \n",
       "8                       john wick   \n",
       "9                       gone girl   \n",
       "\n",
       "                                            features  \n",
       "0  f a m i l y   a n i m a t i o n   a d v e n t ...  \n",
       "1  a c t i o n   a d v e n t u r e   f a n t a s ...  \n",
       "2  f a m i l y   f a n t a s y   r o m a n c e a ...  \n",
       "3  a c t i o n   c r i m e after being coerced in...  \n",
       "4  a d v e n t u r e   f a m i l y   a n i m a t ...  \n",
       "5  a c t i o n   a d v e n t u r e   c o m e d y ...  \n",
       "6  a c t i o n   a d v e n t u r e   c o m e d y ...  \n",
       "7  a c t i o n   a d v e n t u r e   f a n t a s ...  \n",
       "8  a c t i o n   t h r i l l e r ex-lunatic john ...  \n",
       "9  m y s t e r y   t h r i l l e r   d r a m a wi...  "
      ]
     },
     "execution_count": 61,
     "metadata": {},
     "output_type": "execute_result"
    }
   ],
   "source": [
    "df1.head(10)"
   ]
  },
  {
   "attachments": {},
   "cell_type": "markdown",
   "metadata": {},
   "source": [
    "Exportar conjunto de datos para datos de entrenamiento de ML"
   ]
  },
  {
   "cell_type": "code",
   "execution_count": 62,
   "metadata": {},
   "outputs": [],
   "source": [
    "df1.to_csv(\"API1_fucnion7.csv\")#exportar dataset"
   ]
  },
  {
   "cell_type": "code",
   "execution_count": 65,
   "metadata": {},
   "outputs": [],
   "source": [
    "df = pd.read_csv(\"API1_fucnion7.csv\", index_col=0)"
   ]
  },
  {
   "cell_type": "code",
   "execution_count": 66,
   "metadata": {},
   "outputs": [
    {
     "data": {
      "text/html": [
       "<div>\n",
       "<style scoped>\n",
       "    .dataframe tbody tr th:only-of-type {\n",
       "        vertical-align: middle;\n",
       "    }\n",
       "\n",
       "    .dataframe tbody tr th {\n",
       "        vertical-align: top;\n",
       "    }\n",
       "\n",
       "    .dataframe thead th {\n",
       "        text-align: right;\n",
       "    }\n",
       "</style>\n",
       "<table border=\"1\" class=\"dataframe\">\n",
       "  <thead>\n",
       "    <tr style=\"text-align: right;\">\n",
       "      <th></th>\n",
       "      <th>title</th>\n",
       "      <th>features</th>\n",
       "    </tr>\n",
       "  </thead>\n",
       "  <tbody>\n",
       "    <tr>\n",
       "      <th>0</th>\n",
       "      <td>minions</td>\n",
       "      <td>f a m i l y   a n i m a t i o n   a d v e n t ...</td>\n",
       "    </tr>\n",
       "    <tr>\n",
       "      <th>1</th>\n",
       "      <td>wonder woman</td>\n",
       "      <td>a c t i o n   a d v e n t u r e   f a n t a s ...</td>\n",
       "    </tr>\n",
       "    <tr>\n",
       "      <th>2</th>\n",
       "      <td>beauty and the beast</td>\n",
       "      <td>f a m i l y   f a n t a s y   r o m a n c e a ...</td>\n",
       "    </tr>\n",
       "    <tr>\n",
       "      <th>3</th>\n",
       "      <td>baby driver</td>\n",
       "      <td>a c t i o n   c r i m e after being coerced in...</td>\n",
       "    </tr>\n",
       "    <tr>\n",
       "      <th>4</th>\n",
       "      <td>big hero 6</td>\n",
       "      <td>a d v e n t u r e   f a m i l y   a n i m a t ...</td>\n",
       "    </tr>\n",
       "    <tr>\n",
       "      <th>...</th>\n",
       "      <td>...</td>\n",
       "      <td>...</td>\n",
       "    </tr>\n",
       "    <tr>\n",
       "      <th>45340</th>\n",
       "      <td>hellyys</td>\n",
       "      <td>c o m e d y finnish soft erotic movie</td>\n",
       "    </tr>\n",
       "    <tr>\n",
       "      <th>45341</th>\n",
       "      <td>altar of fire</td>\n",
       "      <td>d o c u m e n t a r y this film records a 12 d...</td>\n",
       "    </tr>\n",
       "    <tr>\n",
       "      <th>45342</th>\n",
       "      <td>vehshi jatt</td>\n",
       "      <td>classic indian film starring aasia, afzaal ah...</td>\n",
       "    </tr>\n",
       "    <tr>\n",
       "      <th>45343</th>\n",
       "      <td>raakh</td>\n",
       "      <td>after witnessing the public humiliation &amp;amp;...</td>\n",
       "    </tr>\n",
       "    <tr>\n",
       "      <th>45344</th>\n",
       "      <td>veljet</td>\n",
       "      <td>d o c u m e n t a r y documentary following th...</td>\n",
       "    </tr>\n",
       "  </tbody>\n",
       "</table>\n",
       "<p>45345 rows × 2 columns</p>\n",
       "</div>"
      ],
      "text/plain": [
       "                      title                                           features\n",
       "0                   minions  f a m i l y   a n i m a t i o n   a d v e n t ...\n",
       "1              wonder woman  a c t i o n   a d v e n t u r e   f a n t a s ...\n",
       "2      beauty and the beast  f a m i l y   f a n t a s y   r o m a n c e a ...\n",
       "3               baby driver  a c t i o n   c r i m e after being coerced in...\n",
       "4                big hero 6  a d v e n t u r e   f a m i l y   a n i m a t ...\n",
       "...                     ...                                                ...\n",
       "45340               hellyys              c o m e d y finnish soft erotic movie\n",
       "45341         altar of fire  d o c u m e n t a r y this film records a 12 d...\n",
       "45342           vehshi jatt   classic indian film starring aasia, afzaal ah...\n",
       "45343                 raakh   after witnessing the public humiliation &amp;...\n",
       "45344                veljet  d o c u m e n t a r y documentary following th...\n",
       "\n",
       "[45345 rows x 2 columns]"
      ]
     },
     "execution_count": 66,
     "metadata": {},
     "output_type": "execute_result"
    }
   ],
   "source": [
    "df"
   ]
  },
  {
   "cell_type": "code",
   "execution_count": 67,
   "metadata": {},
   "outputs": [],
   "source": [
    "\n",
    "ml = df.head(10000)  # Utilizar una muestra debido al costo computacional excesivo si se utiliza todo el conjunto de datos\n",
    "ml.reset_index(drop=True, inplace=True)  # Restablecer el índice del DataFrame 'ml'\n",
    "ml.reset_index(inplace=True)  # Restablecer el índice nuevamente\n"
   ]
  },
  {
   "cell_type": "code",
   "execution_count": 68,
   "metadata": {},
   "outputs": [],
   "source": [
    "# Eliminar filas con valores NaN en la columna \"features\"\n",
    "ml = ml.dropna(subset=[\"features\"])"
   ]
  },
  {
   "cell_type": "code",
   "execution_count": 69,
   "metadata": {},
   "outputs": [],
   "source": [
    "indices = ml[[\"title\", \"index\"]]  # Obtener un dataset para encontrar el nuevo índice\n",
    "tfidf = TfidfVectorizer(stop_words=\"english\", max_features=10000)  # Configuración del vector tf-idf, elimina las palabras comunes en inglés y  limita el número de filas a tomar \n",
    "tfidf_matrix = tfidf.fit_transform(ml[\"features\"])  # Configuración del vectorizador tf-idf con datos\n",
    "cosine_sim = linear_kernel(tfidf_matrix, tfidf_matrix)  #Modelo de entrenamiento con los datos proporcionados\n"
   ]
  },
  {
   "cell_type": "code",
   "execution_count": 70,
   "metadata": {},
   "outputs": [],
   "source": [
    "def recomendacion(titulo):  # Función de recomendación de la API de ML\n",
    "    titulo = titulo.lower().strip()  # Convertir el título a minúsculas y eliminar espacios al inicio y al final\n",
    "    titulo = unicodedata.normalize('NFKD', titulo).encode('ascii', 'ignore').decode('utf-8', 'ignore')  # Filtrar los acentos del título\n",
    "\n",
    "    idx = indices[indices[\"title\"] == titulo]  # Filtrar el dataset con el título proporcionado\n",
    "\n",
    "    if idx.empty:  # Verificar si el dataset está vacío\n",
    "        recommendations = [\"Datos no disponible\"]\n",
    "    else:\n",
    "        idy = idx[\"index\"].iloc[0]  # Obtener el índice\n",
    "        sim_score = list(enumerate(cosine_sim[idy]))  # Configurar la puntuación de similitud\n",
    "        sim_score = sorted(sim_score, key=lambda x: x[1], reverse=True)  # Ordenar los resultados por puntuación\n",
    "        sim_score = sim_score[1:6]  # Obtener las 5 películas con mayor puntuación\n",
    "        movies_index = [i[0] for i in sim_score]  # Obtener los índices de las películas\n",
    "        recommendations = list(ml['title'].iloc[movies_index].str.title())  # Crear la lista de recomendaciones\n",
    "\n",
    "    return {'titulo': titulo, 'lista recomendada': recommendations}\n"
   ]
  },
  {
   "cell_type": "code",
   "execution_count": 76,
   "metadata": {},
   "outputs": [
    {
     "data": {
      "text/plain": [
       "{'titulo': 'batman',\n",
       " 'lista recomendada': ['Batman Beyond: Return Of The Joker',\n",
       "  'The Dark Knight Rises',\n",
       "  'Batman Vs Dracula',\n",
       "  'Batman: Under The Red Hood',\n",
       "  'Batman: Mystery Of The Batwoman']}"
      ]
     },
     "execution_count": 76,
     "metadata": {},
     "output_type": "execute_result"
    }
   ],
   "source": [
    "titulo=\"batman\"\n",
    "recomendacion(titulo)"
   ]
  }
 ],
 "metadata": {
  "kernelspec": {
   "display_name": "Python 3",
   "language": "python",
   "name": "python3"
  },
  "language_info": {
   "codemirror_mode": {
    "name": "ipython",
    "version": 3
   },
   "file_extension": ".py",
   "mimetype": "text/x-python",
   "name": "python",
   "nbconvert_exporter": "python",
   "pygments_lexer": "ipython3",
   "version": "3.11.4"
  },
  "orig_nbformat": 4
 },
 "nbformat": 4,
 "nbformat_minor": 2
}
