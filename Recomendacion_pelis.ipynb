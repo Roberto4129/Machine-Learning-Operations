{
 "cells": [
  {
   "cell_type": "code",
   "execution_count": 3,
   "metadata": {},
   "outputs": [],
   "source": [
    "import pandas as pd\n",
    "from sklearn.feature_extraction.text import TfidfVectorizer\n",
    "from sklearn.metrics.pairwise import linear_kernel\n",
    "from sklearn.feature_extraction.text import CountVectorizer\n",
    "import unicodedata\n",
    "from ast import literal_eval\n",
    "import numpy as np"
   ]
  },
  {
   "attachments": {},
   "cell_type": "markdown",
   "metadata": {},
   "source": [
    "Importamos csv"
   ]
  },
  {
   "cell_type": "code",
   "execution_count": 5,
   "metadata": {},
   "outputs": [],
   "source": [
    "df_1 = pd.read_csv(\"DATA_EDA.csv\",  index_col=0)"
   ]
  },
  {
   "cell_type": "code",
   "execution_count": 6,
   "metadata": {},
   "outputs": [],
   "source": [
    "df1 = df_1[[\"title\", \"genres\", \"overview\",\"popularity\" ]]\n"
   ]
  },
  {
   "attachments": {},
   "cell_type": "markdown",
   "metadata": {},
   "source": [
    "Configuración de funciones para datos de entrenamiento de ML Conseguir una sopa de letras"
   ]
  },
  {
   "cell_type": "code",
   "execution_count": null,
   "metadata": {},
   "outputs": [],
   "source": [
    "df1.title = df1.title.str.lower()# convierte todos los títulos a minúsculas\n",
    "df1.genres = df1.genres.str.replace(\" \",\"\")# elimina los espacios en blanco\n",
    "def safe_literal_eval(value):#función verifica si el valor es una cadena no nula \n",
    "    if isinstance(value, str) and not pd.isna(value):#garantiza que no se produzca un error al evaluar los valores nan \n",
    "        return literal_eval(value)\n",
    "    return []\n",
    "df1.genres = df1.genres.apply(safe_literal_eval)  # Establecer el tipo de datos correcto en la columna genres\n",
    "df1[\"features\"] = df1.genres  # crea una nueva columna\n"
   ]
  },
  {
   "attachments": {},
   "cell_type": "markdown",
   "metadata": {},
   "source": [
    "Conseguir una sopa de letras"
   ]
  },
  {
   "cell_type": "code",
   "execution_count": null,
   "metadata": {},
   "outputs": [],
   "source": [
    "df1['genres'] = df1['genres'].apply(lambda x: ' '.join(x))  # Unir elementos de \"genres\"\n",
    "df1['features'] = df1['genres'] + ' ' + df1['overview']  # Unir elementos de \"genres\" y \"overview\" en la columna \"features\"(caracteristicas)"
   ]
  },
  {
   "cell_type": "code",
   "execution_count": 9,
   "metadata": {},
   "outputs": [],
   "source": [
    "df1 = df1.sort_values(\"popularity\", ascending=False)  # Ordenar por popularidad en orden descendente\n",
    "df1.drop([\"genres\", \"overview\", \"popularity\"], inplace=True, axis=1)  # Eliminar columnas que no se utilizarán en el modelo de ML\n",
    "df1[\"features\"] = df1[\"features\"].str.lower()  # Normalizar los valores en la columna \"features\" a minúsculas\n",
    "df1.dropna(subset=[\"features\"], inplace=True) #Elimino filas vacias\n",
    "df1.reset_index(drop=True, inplace=True)  # Restablecer el índice del DataFrame"
   ]
  },
  {
   "cell_type": "code",
   "execution_count": 10,
   "metadata": {},
   "outputs": [
    {
     "data": {
      "text/html": [
       "<div>\n",
       "<style scoped>\n",
       "    .dataframe tbody tr th:only-of-type {\n",
       "        vertical-align: middle;\n",
       "    }\n",
       "\n",
       "    .dataframe tbody tr th {\n",
       "        vertical-align: top;\n",
       "    }\n",
       "\n",
       "    .dataframe thead th {\n",
       "        text-align: right;\n",
       "    }\n",
       "</style>\n",
       "<table border=\"1\" class=\"dataframe\">\n",
       "  <thead>\n",
       "    <tr style=\"text-align: right;\">\n",
       "      <th></th>\n",
       "      <th>title</th>\n",
       "      <th>features</th>\n",
       "    </tr>\n",
       "  </thead>\n",
       "  <tbody>\n",
       "    <tr>\n",
       "      <th>0</th>\n",
       "      <td>minions</td>\n",
       "      <td>family animation adventure comedy minions stua...</td>\n",
       "    </tr>\n",
       "    <tr>\n",
       "      <th>1</th>\n",
       "      <td>wonder woman</td>\n",
       "      <td>action adventure fantasy an amazon princess co...</td>\n",
       "    </tr>\n",
       "    <tr>\n",
       "      <th>2</th>\n",
       "      <td>beauty and the beast</td>\n",
       "      <td>family fantasy romance a live-action adaptatio...</td>\n",
       "    </tr>\n",
       "    <tr>\n",
       "      <th>3</th>\n",
       "      <td>baby driver</td>\n",
       "      <td>action crime after being coerced into working ...</td>\n",
       "    </tr>\n",
       "    <tr>\n",
       "      <th>4</th>\n",
       "      <td>big hero 6</td>\n",
       "      <td>adventure family animation action comedy the s...</td>\n",
       "    </tr>\n",
       "    <tr>\n",
       "      <th>5</th>\n",
       "      <td>deadpool</td>\n",
       "      <td>action adventure comedy deadpool tells the ori...</td>\n",
       "    </tr>\n",
       "    <tr>\n",
       "      <th>6</th>\n",
       "      <td>guardians of the galaxy vol. 2</td>\n",
       "      <td>action adventure comedy sciencefiction the gua...</td>\n",
       "    </tr>\n",
       "    <tr>\n",
       "      <th>7</th>\n",
       "      <td>avatar</td>\n",
       "      <td>action adventure fantasy sciencefiction in the...</td>\n",
       "    </tr>\n",
       "    <tr>\n",
       "      <th>8</th>\n",
       "      <td>john wick</td>\n",
       "      <td>action thriller ex-lunatic john wick comes off...</td>\n",
       "    </tr>\n",
       "    <tr>\n",
       "      <th>9</th>\n",
       "      <td>gone girl</td>\n",
       "      <td>mystery thriller drama with his wife's disappe...</td>\n",
       "    </tr>\n",
       "  </tbody>\n",
       "</table>\n",
       "</div>"
      ],
      "text/plain": [
       "                            title  \\\n",
       "0                         minions   \n",
       "1                    wonder woman   \n",
       "2            beauty and the beast   \n",
       "3                     baby driver   \n",
       "4                      big hero 6   \n",
       "5                        deadpool   \n",
       "6  guardians of the galaxy vol. 2   \n",
       "7                          avatar   \n",
       "8                       john wick   \n",
       "9                       gone girl   \n",
       "\n",
       "                                            features  \n",
       "0  family animation adventure comedy minions stua...  \n",
       "1  action adventure fantasy an amazon princess co...  \n",
       "2  family fantasy romance a live-action adaptatio...  \n",
       "3  action crime after being coerced into working ...  \n",
       "4  adventure family animation action comedy the s...  \n",
       "5  action adventure comedy deadpool tells the ori...  \n",
       "6  action adventure comedy sciencefiction the gua...  \n",
       "7  action adventure fantasy sciencefiction in the...  \n",
       "8  action thriller ex-lunatic john wick comes off...  \n",
       "9  mystery thriller drama with his wife's disappe...  "
      ]
     },
     "execution_count": 10,
     "metadata": {},
     "output_type": "execute_result"
    }
   ],
   "source": [
    "df1.head(10)"
   ]
  },
  {
   "attachments": {},
   "cell_type": "markdown",
   "metadata": {},
   "source": [
    "Exportar conjunto de datos para datos de entrenamiento de ML"
   ]
  },
  {
   "cell_type": "code",
   "execution_count": 11,
   "metadata": {},
   "outputs": [],
   "source": [
    "df1.to_csv(\"API1_fucnion7.csv\")#exportar dataset"
   ]
  },
  {
   "cell_type": "code",
   "execution_count": 12,
   "metadata": {},
   "outputs": [],
   "source": [
    "df = pd.read_csv(\"API1_fucnion7.csv\", index_col=0)"
   ]
  },
  {
   "cell_type": "code",
   "execution_count": null,
   "metadata": {},
   "outputs": [
    {
     "data": {
      "text/html": [
       "<div>\n",
       "<style scoped>\n",
       "    .dataframe tbody tr th:only-of-type {\n",
       "        vertical-align: middle;\n",
       "    }\n",
       "\n",
       "    .dataframe tbody tr th {\n",
       "        vertical-align: top;\n",
       "    }\n",
       "\n",
       "    .dataframe thead th {\n",
       "        text-align: right;\n",
       "    }\n",
       "</style>\n",
       "<table border=\"1\" class=\"dataframe\">\n",
       "  <thead>\n",
       "    <tr style=\"text-align: right;\">\n",
       "      <th></th>\n",
       "      <th>title</th>\n",
       "      <th>features</th>\n",
       "    </tr>\n",
       "  </thead>\n",
       "  <tbody>\n",
       "    <tr>\n",
       "      <th>0</th>\n",
       "      <td>minions</td>\n",
       "      <td>f a m i l y   a n i m a t i o n   a d v e n t ...</td>\n",
       "    </tr>\n",
       "    <tr>\n",
       "      <th>1</th>\n",
       "      <td>wonder woman</td>\n",
       "      <td>a c t i o n   a d v e n t u r e   f a n t a s ...</td>\n",
       "    </tr>\n",
       "    <tr>\n",
       "      <th>2</th>\n",
       "      <td>beauty and the beast</td>\n",
       "      <td>f a m i l y   f a n t a s y   r o m a n c e a ...</td>\n",
       "    </tr>\n",
       "    <tr>\n",
       "      <th>3</th>\n",
       "      <td>baby driver</td>\n",
       "      <td>a c t i o n   c r i m e after being coerced in...</td>\n",
       "    </tr>\n",
       "    <tr>\n",
       "      <th>4</th>\n",
       "      <td>big hero 6</td>\n",
       "      <td>a d v e n t u r e   f a m i l y   a n i m a t ...</td>\n",
       "    </tr>\n",
       "    <tr>\n",
       "      <th>...</th>\n",
       "      <td>...</td>\n",
       "      <td>...</td>\n",
       "    </tr>\n",
       "    <tr>\n",
       "      <th>44399</th>\n",
       "      <td>hellyys</td>\n",
       "      <td>c o m e d y finnish soft erotic movie</td>\n",
       "    </tr>\n",
       "    <tr>\n",
       "      <th>44400</th>\n",
       "      <td>altar of fire</td>\n",
       "      <td>d o c u m e n t a r y this film records a 12 d...</td>\n",
       "    </tr>\n",
       "    <tr>\n",
       "      <th>44401</th>\n",
       "      <td>vehshi jatt</td>\n",
       "      <td>classic indian film starring aasia, afzaal ah...</td>\n",
       "    </tr>\n",
       "    <tr>\n",
       "      <th>44402</th>\n",
       "      <td>raakh</td>\n",
       "      <td>after witnessing the public humiliation &amp;amp;...</td>\n",
       "    </tr>\n",
       "    <tr>\n",
       "      <th>44403</th>\n",
       "      <td>veljet</td>\n",
       "      <td>d o c u m e n t a r y documentary following th...</td>\n",
       "    </tr>\n",
       "  </tbody>\n",
       "</table>\n",
       "<p>44404 rows × 2 columns</p>\n",
       "</div>"
      ],
      "text/plain": [
       "                      title                                           features\n",
       "0                   minions  f a m i l y   a n i m a t i o n   a d v e n t ...\n",
       "1              wonder woman  a c t i o n   a d v e n t u r e   f a n t a s ...\n",
       "2      beauty and the beast  f a m i l y   f a n t a s y   r o m a n c e a ...\n",
       "3               baby driver  a c t i o n   c r i m e after being coerced in...\n",
       "4                big hero 6  a d v e n t u r e   f a m i l y   a n i m a t ...\n",
       "...                     ...                                                ...\n",
       "44399               hellyys              c o m e d y finnish soft erotic movie\n",
       "44400         altar of fire  d o c u m e n t a r y this film records a 12 d...\n",
       "44401           vehshi jatt   classic indian film starring aasia, afzaal ah...\n",
       "44402                 raakh   after witnessing the public humiliation &amp;...\n",
       "44403                veljet  d o c u m e n t a r y documentary following th...\n",
       "\n",
       "[44404 rows x 2 columns]"
      ]
     },
     "execution_count": 6,
     "metadata": {},
     "output_type": "execute_result"
    }
   ],
   "source": [
    "df"
   ]
  },
  {
   "cell_type": "code",
   "execution_count": 13,
   "metadata": {},
   "outputs": [],
   "source": [
    "ml = df.head(10000)  # Utilizar una muestra debido al costo computacional excesivo si se utiliza todo el conjunto de datos\n",
    "\n",
    "tfidf = TfidfVectorizer(stop_words=\"english\", max_features=10000)  # Configuración del vector tf-idf, elimina las palabras comunes en inglés y limita el número de filas a tomar\n",
    "tfidf_matrix = tfidf.fit_transform(ml[\"features\"])  # Configuración del vectorizador tf-idf con datos\n",
    "cosine_sim = linear_kernel(tfidf_matrix, tfidf_matrix)  # Modelo de entrenamiento con los datos proporcionados\n"
   ]
  },
  {
   "cell_type": "code",
   "execution_count": 18,
   "metadata": {},
   "outputs": [],
   "source": [
    "\n",
    "#@app.get('/recomendacion/{titulo}')    \n",
    "def recomendacion(titulo: str):\n",
    "    '''Ingresas un nombre de película y te recomienda las similares en una lista'''\n",
    "\n",
    "    # Normalizar y formatear el título de la película\n",
    "    titulo = titulo.lower().strip()\n",
    "    titulo = unicodedata.normalize('NFKD', titulo).encode('ascii', 'ignore').decode('utf-8', 'ignore')\n",
    "\n",
    "    # Buscar el índice de la película en el DataFrame ml\n",
    "    idx = ml[ml[\"title\"] == titulo].index\n",
    "\n",
    "    # Verificar si se encontró la película en el conjunto de datos\n",
    "    if len(idx) == 0:\n",
    "        recommendations = [\"Datos no disponibles\"]\n",
    "    else:\n",
    "        idy = idx[0]\n",
    "\n",
    "        # Obtener los puntajes de similitud de la película con todas las demás películas\n",
    "        sim_scores = cosine_sim[idy]\n",
    "\n",
    "        # Obtener los índices de las películas más similares\n",
    "        top_indices = np.argsort(sim_scores)[::-1][1:6]\n",
    "\n",
    "        # Obtener los títulos de las películas recomendadas\n",
    "        recommendations = list(ml['title'].iloc[top_indices].str.title())\n",
    "\n",
    "    return {'lista_recomendada': recommendations}\n"
   ]
  },
  {
   "cell_type": "code",
   "execution_count": 20,
   "metadata": {},
   "outputs": [
    {
     "data": {
      "text/plain": [
       "{'lista_recomendada': ['All Star Superman',\n",
       "  'Superman Ii',\n",
       "  'Superman Returns',\n",
       "  'Superman Iv: The Quest For Peace',\n",
       "  'The Freshman']}"
      ]
     },
     "execution_count": 20,
     "metadata": {},
     "output_type": "execute_result"
    }
   ],
   "source": [
    "recomendacion(\"superman\")"
   ]
  },
  {
   "cell_type": "code",
   "execution_count": null,
   "metadata": {},
   "outputs": [],
   "source": []
  }
 ],
 "metadata": {
  "kernelspec": {
   "display_name": "Python 3",
   "language": "python",
   "name": "python3"
  },
  "language_info": {
   "codemirror_mode": {
    "name": "ipython",
    "version": 3
   },
   "file_extension": ".py",
   "mimetype": "text/x-python",
   "name": "python",
   "nbconvert_exporter": "python",
   "pygments_lexer": "ipython3",
   "version": "3.11.4"
  },
  "orig_nbformat": 4
 },
 "nbformat": 4,
 "nbformat_minor": 2
}
