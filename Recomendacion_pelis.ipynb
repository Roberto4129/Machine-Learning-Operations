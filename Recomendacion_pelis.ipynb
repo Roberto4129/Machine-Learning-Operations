{
 "cells": [
  {
   "cell_type": "code",
   "execution_count": 1,
   "metadata": {},
   "outputs": [],
   "source": [
    "import pandas as pd\n",
    "from sklearn.feature_extraction.text import TfidfVectorizer\n",
    "from sklearn.metrics.pairwise import linear_kernel\n",
    "from sklearn.feature_extraction.text import CountVectorizer\n",
    "import unicodedata\n",
    "from ast import literal_eval\n",
    "import numpy as np"
   ]
  },
  {
   "attachments": {},
   "cell_type": "markdown",
   "metadata": {},
   "source": [
    "Importamos csv"
   ]
  },
  {
   "cell_type": "code",
   "execution_count": 2,
   "metadata": {},
   "outputs": [],
   "source": [
    "df_1 = pd.read_csv(\"DATA_EDA.csv\",  index_col=0)"
   ]
  },
  {
   "cell_type": "code",
   "execution_count": 25,
   "metadata": {},
   "outputs": [],
   "source": [
    "df1 = df_1[[\"title\",\"overview\" ]]\n"
   ]
  },
  {
   "cell_type": "code",
   "execution_count": 18,
   "metadata": {},
   "outputs": [
    {
     "data": {
      "text/html": [
       "<div>\n",
       "<style scoped>\n",
       "    .dataframe tbody tr th:only-of-type {\n",
       "        vertical-align: middle;\n",
       "    }\n",
       "\n",
       "    .dataframe tbody tr th {\n",
       "        vertical-align: top;\n",
       "    }\n",
       "\n",
       "    .dataframe thead th {\n",
       "        text-align: right;\n",
       "    }\n",
       "</style>\n",
       "<table border=\"1\" class=\"dataframe\">\n",
       "  <thead>\n",
       "    <tr style=\"text-align: right;\">\n",
       "      <th></th>\n",
       "      <th>title</th>\n",
       "      <th>overview</th>\n",
       "    </tr>\n",
       "  </thead>\n",
       "  <tbody>\n",
       "    <tr>\n",
       "      <th>0</th>\n",
       "      <td>Toy Story</td>\n",
       "      <td>Led by Woody, Andy's toys live happily in his ...</td>\n",
       "    </tr>\n",
       "    <tr>\n",
       "      <th>1</th>\n",
       "      <td>Jumanji</td>\n",
       "      <td>When siblings Judy and Peter discover an encha...</td>\n",
       "    </tr>\n",
       "    <tr>\n",
       "      <th>2</th>\n",
       "      <td>Grumpier Old Men</td>\n",
       "      <td>A family wedding reignites the ancient feud be...</td>\n",
       "    </tr>\n",
       "    <tr>\n",
       "      <th>3</th>\n",
       "      <td>Waiting to Exhale</td>\n",
       "      <td>Cheated on, mistreated and stepped on, the wom...</td>\n",
       "    </tr>\n",
       "    <tr>\n",
       "      <th>4</th>\n",
       "      <td>Father of the Bride Part II</td>\n",
       "      <td>Just when George Banks has recovered from his ...</td>\n",
       "    </tr>\n",
       "    <tr>\n",
       "      <th>...</th>\n",
       "      <td>...</td>\n",
       "      <td>...</td>\n",
       "    </tr>\n",
       "    <tr>\n",
       "      <th>45340</th>\n",
       "      <td>Robin Hood</td>\n",
       "      <td>Yet another version of the classic epic, with ...</td>\n",
       "    </tr>\n",
       "    <tr>\n",
       "      <th>45341</th>\n",
       "      <td>Century of Birthing</td>\n",
       "      <td>An artist struggles to finish his work while a...</td>\n",
       "    </tr>\n",
       "    <tr>\n",
       "      <th>45342</th>\n",
       "      <td>Betrayal</td>\n",
       "      <td>When one of her hits goes wrong, a professiona...</td>\n",
       "    </tr>\n",
       "    <tr>\n",
       "      <th>45343</th>\n",
       "      <td>Satan Triumphant</td>\n",
       "      <td>In a small town live two brothers, one a minis...</td>\n",
       "    </tr>\n",
       "    <tr>\n",
       "      <th>45344</th>\n",
       "      <td>Queerama</td>\n",
       "      <td>50 years after decriminalisation of homosexual...</td>\n",
       "    </tr>\n",
       "  </tbody>\n",
       "</table>\n",
       "<p>45345 rows × 2 columns</p>\n",
       "</div>"
      ],
      "text/plain": [
       "                             title  \\\n",
       "0                        Toy Story   \n",
       "1                          Jumanji   \n",
       "2                 Grumpier Old Men   \n",
       "3                Waiting to Exhale   \n",
       "4      Father of the Bride Part II   \n",
       "...                            ...   \n",
       "45340                   Robin Hood   \n",
       "45341          Century of Birthing   \n",
       "45342                     Betrayal   \n",
       "45343             Satan Triumphant   \n",
       "45344                     Queerama   \n",
       "\n",
       "                                                overview  \n",
       "0      Led by Woody, Andy's toys live happily in his ...  \n",
       "1      When siblings Judy and Peter discover an encha...  \n",
       "2      A family wedding reignites the ancient feud be...  \n",
       "3      Cheated on, mistreated and stepped on, the wom...  \n",
       "4      Just when George Banks has recovered from his ...  \n",
       "...                                                  ...  \n",
       "45340  Yet another version of the classic epic, with ...  \n",
       "45341  An artist struggles to finish his work while a...  \n",
       "45342  When one of her hits goes wrong, a professiona...  \n",
       "45343  In a small town live two brothers, one a minis...  \n",
       "45344  50 years after decriminalisation of homosexual...  \n",
       "\n",
       "[45345 rows x 2 columns]"
      ]
     },
     "execution_count": 18,
     "metadata": {},
     "output_type": "execute_result"
    }
   ],
   "source": [
    "df1"
   ]
  },
  {
   "attachments": {},
   "cell_type": "markdown",
   "metadata": {},
   "source": [
    "dar formato y convertor los valores de las columnas"
   ]
  },
  {
   "cell_type": "code",
   "execution_count": 26,
   "metadata": {},
   "outputs": [
    {
     "name": "stderr",
     "output_type": "stream",
     "text": [
      "C:\\Users\\ROG BY NG\\AppData\\Local\\Temp\\ipykernel_12256\\3573446107.py:1: SettingWithCopyWarning: \n",
      "A value is trying to be set on a copy of a slice from a DataFrame.\n",
      "Try using .loc[row_indexer,col_indexer] = value instead\n",
      "\n",
      "See the caveats in the documentation: https://pandas.pydata.org/pandas-docs/stable/user_guide/indexing.html#returning-a-view-versus-a-copy\n",
      "  df1.title = df1.title.str.lower()# convierte todos los títulos a minúsculas\n",
      "C:\\Users\\ROG BY NG\\AppData\\Local\\Temp\\ipykernel_12256\\3573446107.py:2: SettingWithCopyWarning: \n",
      "A value is trying to be set on a copy of a slice from a DataFrame.\n",
      "Try using .loc[row_indexer,col_indexer] = value instead\n",
      "\n",
      "See the caveats in the documentation: https://pandas.pydata.org/pandas-docs/stable/user_guide/indexing.html#returning-a-view-versus-a-copy\n",
      "  df1.overview = df1.overview.str.replace(\" \",\"\")# elimina los espacios en blanco\n"
     ]
    }
   ],
   "source": [
    "df1.title = df1.title.str.lower()# convierte todos los títulos a minúsculas\n",
    "df1.overview = df1.overview.str.replace(\" \",\"\")# elimina los espacios en blanco\n",
    "def safe_literal_eval(value):#función verifica si el valor es una cadena no nula \n",
    "    if isinstance(value, str) and not pd.isna(value):#garantiza que no se produzca un error al evaluar los valores nan \n",
    "        return literal_eval(value)\n",
    "    return []\n",
    "#df1.genres = df1.genres.apply(safe_literal_eval)  # Establecer el tipo de datos correcto en la columna genres\n",
    "#df1[\"features\"] = df1.genres  # crea una nueva columna\n"
   ]
  },
  {
   "attachments": {},
   "cell_type": "markdown",
   "metadata": {},
   "source": [
    "Conseguir una sopa de letras"
   ]
  },
  {
   "cell_type": "code",
   "execution_count": null,
   "metadata": {},
   "outputs": [],
   "source": [
    "#df1['genres'] = df1['genres'].apply(lambda x: ' '.join(x))  # Unir elementos de \"genres\"\n",
    "#df1['features'] = df1['genres'] + ' ' + df1['overview']  # Unir elementos de \"genres\" y \"overview\" en la columna \"features\"(caracteristicas)"
   ]
  },
  {
   "cell_type": "code",
   "execution_count": 27,
   "metadata": {},
   "outputs": [
    {
     "name": "stderr",
     "output_type": "stream",
     "text": [
      "C:\\Users\\ROG BY NG\\AppData\\Local\\Temp\\ipykernel_12256\\156223916.py:3: SettingWithCopyWarning: \n",
      "A value is trying to be set on a copy of a slice from a DataFrame.\n",
      "Try using .loc[row_indexer,col_indexer] = value instead\n",
      "\n",
      "See the caveats in the documentation: https://pandas.pydata.org/pandas-docs/stable/user_guide/indexing.html#returning-a-view-versus-a-copy\n",
      "  df1[\"overview\"] = df1[\"overview\"].str.lower()  # Normalizar los valores  a minúsculas\n",
      "C:\\Users\\ROG BY NG\\AppData\\Local\\Temp\\ipykernel_12256\\156223916.py:4: SettingWithCopyWarning: \n",
      "A value is trying to be set on a copy of a slice from a DataFrame\n",
      "\n",
      "See the caveats in the documentation: https://pandas.pydata.org/pandas-docs/stable/user_guide/indexing.html#returning-a-view-versus-a-copy\n",
      "  df1.dropna(subset=[\"overview\"], inplace=True) #Elimino filas vacias\n"
     ]
    }
   ],
   "source": [
    "#df1 = df1.sort_values(\"popularity\", ascending=False)  # Ordenar por popularidad en orden descendente\n",
    "#df1.drop([\"genres\", \"overview\", \"popularity\"], inplace=True, axis=1)  # Eliminar columnas que no se utilizarán en el modelo de ML\n",
    "df1[\"overview\"] = df1[\"overview\"].str.lower()  # Normalizar los valores  a minúsculas\n",
    "df1.dropna(subset=[\"overview\"], inplace=True) #Elimino filas vacias\n",
    "df1.reset_index(drop=True, inplace=True)  # Restablecer el índice del DataFrame"
   ]
  },
  {
   "cell_type": "code",
   "execution_count": 21,
   "metadata": {},
   "outputs": [
    {
     "data": {
      "text/html": [
       "<div>\n",
       "<style scoped>\n",
       "    .dataframe tbody tr th:only-of-type {\n",
       "        vertical-align: middle;\n",
       "    }\n",
       "\n",
       "    .dataframe tbody tr th {\n",
       "        vertical-align: top;\n",
       "    }\n",
       "\n",
       "    .dataframe thead th {\n",
       "        text-align: right;\n",
       "    }\n",
       "</style>\n",
       "<table border=\"1\" class=\"dataframe\">\n",
       "  <thead>\n",
       "    <tr style=\"text-align: right;\">\n",
       "      <th></th>\n",
       "      <th>title</th>\n",
       "      <th>overview</th>\n",
       "    </tr>\n",
       "  </thead>\n",
       "  <tbody>\n",
       "    <tr>\n",
       "      <th>0</th>\n",
       "      <td>toy story</td>\n",
       "      <td>ledbywoody,andy'stoyslivehappilyinhisroomuntil...</td>\n",
       "    </tr>\n",
       "    <tr>\n",
       "      <th>1</th>\n",
       "      <td>jumanji</td>\n",
       "      <td>whensiblingsjudyandpeterdiscoveranenchantedboa...</td>\n",
       "    </tr>\n",
       "    <tr>\n",
       "      <th>2</th>\n",
       "      <td>grumpier old men</td>\n",
       "      <td>afamilyweddingreignitestheancientfeudbetweenne...</td>\n",
       "    </tr>\n",
       "    <tr>\n",
       "      <th>3</th>\n",
       "      <td>waiting to exhale</td>\n",
       "      <td>cheatedon,mistreatedandsteppedon,thewomenareho...</td>\n",
       "    </tr>\n",
       "    <tr>\n",
       "      <th>4</th>\n",
       "      <td>father of the bride part ii</td>\n",
       "      <td>justwhengeorgebankshasrecoveredfromhisdaughter...</td>\n",
       "    </tr>\n",
       "    <tr>\n",
       "      <th>5</th>\n",
       "      <td>heat</td>\n",
       "      <td>obsessivemasterthief,neilmccauleyleadsatop-not...</td>\n",
       "    </tr>\n",
       "    <tr>\n",
       "      <th>6</th>\n",
       "      <td>sabrina</td>\n",
       "      <td>anuglyducklinghavingundergonearemarkablechange...</td>\n",
       "    </tr>\n",
       "    <tr>\n",
       "      <th>7</th>\n",
       "      <td>tom and huck</td>\n",
       "      <td>amischievousyoungboy,tomsawyer,witnessesamurde...</td>\n",
       "    </tr>\n",
       "    <tr>\n",
       "      <th>8</th>\n",
       "      <td>sudden death</td>\n",
       "      <td>internationalactionsuperstarjeanclaudevandamme...</td>\n",
       "    </tr>\n",
       "    <tr>\n",
       "      <th>9</th>\n",
       "      <td>goldeneye</td>\n",
       "      <td>jamesbondmustunmaskthemysteriousheadofthejanus...</td>\n",
       "    </tr>\n",
       "  </tbody>\n",
       "</table>\n",
       "</div>"
      ],
      "text/plain": [
       "                         title  \\\n",
       "0                    toy story   \n",
       "1                      jumanji   \n",
       "2             grumpier old men   \n",
       "3            waiting to exhale   \n",
       "4  father of the bride part ii   \n",
       "5                         heat   \n",
       "6                      sabrina   \n",
       "7                 tom and huck   \n",
       "8                 sudden death   \n",
       "9                    goldeneye   \n",
       "\n",
       "                                            overview  \n",
       "0  ledbywoody,andy'stoyslivehappilyinhisroomuntil...  \n",
       "1  whensiblingsjudyandpeterdiscoveranenchantedboa...  \n",
       "2  afamilyweddingreignitestheancientfeudbetweenne...  \n",
       "3  cheatedon,mistreatedandsteppedon,thewomenareho...  \n",
       "4  justwhengeorgebankshasrecoveredfromhisdaughter...  \n",
       "5  obsessivemasterthief,neilmccauleyleadsatop-not...  \n",
       "6  anuglyducklinghavingundergonearemarkablechange...  \n",
       "7  amischievousyoungboy,tomsawyer,witnessesamurde...  \n",
       "8  internationalactionsuperstarjeanclaudevandamme...  \n",
       "9  jamesbondmustunmaskthemysteriousheadofthejanus...  "
      ]
     },
     "execution_count": 21,
     "metadata": {},
     "output_type": "execute_result"
    }
   ],
   "source": [
    "df1.head(10)"
   ]
  },
  {
   "attachments": {},
   "cell_type": "markdown",
   "metadata": {},
   "source": [
    "Exportar conjunto de datos para datos de entrenamiento de ML"
   ]
  },
  {
   "cell_type": "code",
   "execution_count": 28,
   "metadata": {},
   "outputs": [],
   "source": [
    "df1.to_csv(\"API1_fucnion7.csv\")#exportar dataset"
   ]
  },
  {
   "cell_type": "code",
   "execution_count": 29,
   "metadata": {},
   "outputs": [],
   "source": [
    "df = pd.read_csv(\"API1_fucnion7.csv\", index_col=0)"
   ]
  },
  {
   "cell_type": "code",
   "execution_count": 30,
   "metadata": {},
   "outputs": [
    {
     "data": {
      "text/html": [
       "<div>\n",
       "<style scoped>\n",
       "    .dataframe tbody tr th:only-of-type {\n",
       "        vertical-align: middle;\n",
       "    }\n",
       "\n",
       "    .dataframe tbody tr th {\n",
       "        vertical-align: top;\n",
       "    }\n",
       "\n",
       "    .dataframe thead th {\n",
       "        text-align: right;\n",
       "    }\n",
       "</style>\n",
       "<table border=\"1\" class=\"dataframe\">\n",
       "  <thead>\n",
       "    <tr style=\"text-align: right;\">\n",
       "      <th></th>\n",
       "      <th>title</th>\n",
       "      <th>overview</th>\n",
       "    </tr>\n",
       "  </thead>\n",
       "  <tbody>\n",
       "    <tr>\n",
       "      <th>0</th>\n",
       "      <td>toy story</td>\n",
       "      <td>ledbywoody,andy'stoyslivehappilyinhisroomuntil...</td>\n",
       "    </tr>\n",
       "    <tr>\n",
       "      <th>1</th>\n",
       "      <td>jumanji</td>\n",
       "      <td>whensiblingsjudyandpeterdiscoveranenchantedboa...</td>\n",
       "    </tr>\n",
       "    <tr>\n",
       "      <th>2</th>\n",
       "      <td>grumpier old men</td>\n",
       "      <td>afamilyweddingreignitestheancientfeudbetweenne...</td>\n",
       "    </tr>\n",
       "    <tr>\n",
       "      <th>3</th>\n",
       "      <td>waiting to exhale</td>\n",
       "      <td>cheatedon,mistreatedandsteppedon,thewomenareho...</td>\n",
       "    </tr>\n",
       "    <tr>\n",
       "      <th>4</th>\n",
       "      <td>father of the bride part ii</td>\n",
       "      <td>justwhengeorgebankshasrecoveredfromhisdaughter...</td>\n",
       "    </tr>\n",
       "    <tr>\n",
       "      <th>...</th>\n",
       "      <td>...</td>\n",
       "      <td>...</td>\n",
       "    </tr>\n",
       "    <tr>\n",
       "      <th>44399</th>\n",
       "      <td>robin hood</td>\n",
       "      <td>yetanotherversionoftheclassicepic,withenoughva...</td>\n",
       "    </tr>\n",
       "    <tr>\n",
       "      <th>44400</th>\n",
       "      <td>century of birthing</td>\n",
       "      <td>anartiststrugglestofinishhisworkwhileastorylin...</td>\n",
       "    </tr>\n",
       "    <tr>\n",
       "      <th>44401</th>\n",
       "      <td>betrayal</td>\n",
       "      <td>whenoneofherhitsgoeswrong,aprofessionalassassi...</td>\n",
       "    </tr>\n",
       "    <tr>\n",
       "      <th>44402</th>\n",
       "      <td>satan triumphant</td>\n",
       "      <td>inasmalltownlivetwobrothers,oneaministerandthe...</td>\n",
       "    </tr>\n",
       "    <tr>\n",
       "      <th>44403</th>\n",
       "      <td>queerama</td>\n",
       "      <td>50yearsafterdecriminalisationofhomosexualityin...</td>\n",
       "    </tr>\n",
       "  </tbody>\n",
       "</table>\n",
       "<p>44404 rows × 2 columns</p>\n",
       "</div>"
      ],
      "text/plain": [
       "                             title  \\\n",
       "0                        toy story   \n",
       "1                          jumanji   \n",
       "2                 grumpier old men   \n",
       "3                waiting to exhale   \n",
       "4      father of the bride part ii   \n",
       "...                            ...   \n",
       "44399                   robin hood   \n",
       "44400          century of birthing   \n",
       "44401                     betrayal   \n",
       "44402             satan triumphant   \n",
       "44403                     queerama   \n",
       "\n",
       "                                                overview  \n",
       "0      ledbywoody,andy'stoyslivehappilyinhisroomuntil...  \n",
       "1      whensiblingsjudyandpeterdiscoveranenchantedboa...  \n",
       "2      afamilyweddingreignitestheancientfeudbetweenne...  \n",
       "3      cheatedon,mistreatedandsteppedon,thewomenareho...  \n",
       "4      justwhengeorgebankshasrecoveredfromhisdaughter...  \n",
       "...                                                  ...  \n",
       "44399  yetanotherversionoftheclassicepic,withenoughva...  \n",
       "44400  anartiststrugglestofinishhisworkwhileastorylin...  \n",
       "44401  whenoneofherhitsgoeswrong,aprofessionalassassi...  \n",
       "44402  inasmalltownlivetwobrothers,oneaministerandthe...  \n",
       "44403  50yearsafterdecriminalisationofhomosexualityin...  \n",
       "\n",
       "[44404 rows x 2 columns]"
      ]
     },
     "execution_count": 30,
     "metadata": {},
     "output_type": "execute_result"
    }
   ],
   "source": [
    "df"
   ]
  },
  {
   "cell_type": "code",
   "execution_count": 57,
   "metadata": {},
   "outputs": [],
   "source": [
    "def recomendacion(titulo: str):\n",
    "    '''Ingresas un nombre de película y te recomienda las similares en una lista'''\n",
    "    \n",
    "    ml = pd.read_csv('API1_fucnion7.csv')#limportar csv\n",
    "    ml = df.head(10000)  # Utilizar una muestra debido al costo computacional excesivo si se utiliza todo el conjunto de datos\n",
    "    \n",
    "    tfidf = TfidfVectorizer(stop_words=\"english\")# Configurar el vectorizador tf-idf con palabras comunes en inglés\n",
    "    ml[ \"overview\"] = ml[ \"overview\"].fillna(\"\") #rellenar nulos\n",
    "    \n",
    "\n",
    "    # Crear la matriz tf-idf con los datos de las características de las películas\n",
    "    tfidf_matrix = tfidf.fit_transform(ml[\"overview\"])\n",
    "\n",
    "    # Calcular la matriz de similitud coseno utilizando el kernel lineal\n",
    "    cosine_sim = linear_kernel(tfidf_matrix, tfidf_matrix)\n",
    "    \n",
    "    indices = pd.Series(ml.index, index=ml[\"title\"]).drop_duplicates()\n",
    "\n",
    "    idx = indices[titulo] # Buscar el índice de la película en el dataset\n",
    "    \n",
    "    # Obtener los puntajes de similitud de la película encontrada con todas las demás películas\n",
    "    sim_scores = list(enumerate(cosine_sim[idx]))\n",
    "        # Ordenar los puntajes de similitud en orden descendente\n",
    "    sim_scores = sorted(sim_scores, key=lambda x: x[1], reverse=True)\n",
    "    # Obtener los índices de las películas más similares (excluyendo la película de entrada)\n",
    "    sim_scores = sim_scores[1:6]\n",
    "    movies_indices = [i[0] for i in sim_scores]\n",
    "    \n",
    "    \n",
    "    \n",
    "    recommendations = ml['title'].iloc[movies_indices].to_list()[:5]\n",
    "\n",
    "    return {'lista_recomendada': recommendations}\n"
   ]
  },
  {
   "cell_type": "code",
   "execution_count": 67,
   "metadata": {},
   "outputs": [
    {
     "data": {
      "text/plain": [
       "{'lista_recomendada': ['jumanji',\n",
       "  'grumpier old men',\n",
       "  'waiting to exhale',\n",
       "  'father of the bride part ii',\n",
       "  'heat']}"
      ]
     },
     "execution_count": 67,
     "metadata": {},
     "output_type": "execute_result"
    }
   ],
   "source": [
    "recomendacion(\"jumanji\")"
   ]
  }
 ],
 "metadata": {
  "kernelspec": {
   "display_name": "Python 3",
   "language": "python",
   "name": "python3"
  },
  "language_info": {
   "codemirror_mode": {
    "name": "ipython",
    "version": 3
   },
   "file_extension": ".py",
   "mimetype": "text/x-python",
   "name": "python",
   "nbconvert_exporter": "python",
   "pygments_lexer": "ipython3",
   "version": "3.11.4"
  },
  "orig_nbformat": 4
 },
 "nbformat": 4,
 "nbformat_minor": 2
}
